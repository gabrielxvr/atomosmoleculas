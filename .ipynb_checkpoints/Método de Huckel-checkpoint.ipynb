{
 "cells": [
  {
   "cell_type": "markdown",
   "id": "779bc74f-c391-48fd-a5f1-3a4023dfd207",
   "metadata": {},
   "source": [
    "# Método de Huckel para o ciclobutadieno"
   ]
  },
  {
   "cell_type": "code",
   "execution_count": 1,
   "id": "b6c7d861-d181-4426-9d57-3050606d3df7",
   "metadata": {},
   "outputs": [],
   "source": [
    "import numpy as np\n",
    "import matplotlib.pyplot as plt\n",
    "from sympy import *"
   ]
  },
  {
   "cell_type": "code",
   "execution_count": 33,
   "id": "9f437fbf-0085-42a5-8727-cd4ea517bd67",
   "metadata": {},
   "outputs": [],
   "source": [
    "#e = symbols(\"e\", positive = True)\n",
    "a, b = symbols('a b', negative = True)\n",
    "m = Matrix([\n",
    "[a, b, 0, b],\n",
    "[b, a, b, 0],\n",
    "[0, b, a, b],\n",
    "[b, 0, b, a]])\n",
    "m_0 = Matrix([[0, 0, 0, 0]])"
   ]
  },
  {
   "cell_type": "code",
   "execution_count": 34,
   "id": "ac034209-2c42-4ceb-9316-09d53a96d767",
   "metadata": {},
   "outputs": [
    {
     "data": {
      "text/latex": [
       "$\\displaystyle \\left[\\begin{matrix}a & b & 0 & b\\\\b & a & b & 0\\\\0 & b & a & b\\\\b & 0 & b & a\\end{matrix}\\right]$"
      ],
      "text/plain": [
       "Matrix([\n",
       "[a, b, 0, b],\n",
       "[b, a, b, 0],\n",
       "[0, b, a, b],\n",
       "[b, 0, b, a]])"
      ]
     },
     "metadata": {},
     "output_type": "display_data"
    }
   ],
   "source": [
    "display(m)"
   ]
  },
  {
   "cell_type": "code",
   "execution_count": 35,
   "id": "b172308b-8197-4abf-9564-c9135c742e5b",
   "metadata": {},
   "outputs": [
    {
     "data": {
      "text/plain": [
       "[(a,\n",
       "  2,\n",
       "  [Matrix([\n",
       "   [-1],\n",
       "   [ 0],\n",
       "   [ 1],\n",
       "   [ 0]]),\n",
       "   Matrix([\n",
       "   [ 0],\n",
       "   [-1],\n",
       "   [ 0],\n",
       "   [ 1]])]),\n",
       " (a - 2*b,\n",
       "  1,\n",
       "  [Matrix([\n",
       "   [-1],\n",
       "   [ 1],\n",
       "   [-1],\n",
       "   [ 1]])]),\n",
       " (a + 2*b,\n",
       "  1,\n",
       "  [Matrix([\n",
       "   [1],\n",
       "   [1],\n",
       "   [1],\n",
       "   [1]])])]"
      ]
     },
     "execution_count": 35,
     "metadata": {},
     "output_type": "execute_result"
    }
   ],
   "source": [
    "m.eigenvects()"
   ]
  },
  {
   "cell_type": "code",
   "execution_count": 8,
   "id": "dc881cc4-f8ea-4534-afc6-09edf7c329ec",
   "metadata": {},
   "outputs": [
    {
     "data": {
      "text/latex": [
       "$\\displaystyle a^{4} - 4 a^{3} e - 4 a^{2} b^{2} + 6 a^{2} e^{2} + 8 a b^{2} e - 4 a e^{3} - 4 b^{2} e^{2} + e^{4}$"
      ],
      "text/plain": [
       "a**4 - 4*a**3*e - 4*a**2*b**2 + 6*a**2*e**2 + 8*a*b**2*e - 4*a*e**3 - 4*b**2*e**2 + e**4"
      ]
     },
     "metadata": {},
     "output_type": "display_data"
    }
   ],
   "source": [
    "det_m = m.det()\n",
    "display(det_m)"
   ]
  },
  {
   "cell_type": "code",
   "execution_count": 10,
   "id": "2cb3caed-3b16-49b2-ac7f-b645903b4084",
   "metadata": {},
   "outputs": [
    {
     "data": {
      "text/latex": [
       "$\\displaystyle \\left\\{a, a - 2 b, a + 2 b\\right\\}$"
      ],
      "text/plain": [
       "FiniteSet(a, a - 2*b, a + 2*b)"
      ]
     },
     "execution_count": 10,
     "metadata": {},
     "output_type": "execute_result"
    }
   ],
   "source": [
    "solveset(det_m, e)"
   ]
  },
  {
   "cell_type": "code",
   "execution_count": 23,
   "id": "f7ef9e9f-feb6-483b-928b-4d7711bcaefc",
   "metadata": {},
   "outputs": [],
   "source": [
    "det_m_a = pdiv(det_m, (e-a)**2)"
   ]
  },
  {
   "cell_type": "code",
   "execution_count": 24,
   "id": "6982189d-a77f-4b8c-a540-3956cda9dd0c",
   "metadata": {},
   "outputs": [
    {
     "data": {
      "text/plain": [
       "(a**2 - 2*a*e - 4*b**2 + e**2, 0)"
      ]
     },
     "metadata": {},
     "output_type": "display_data"
    }
   ],
   "source": [
    "display(det_m_a)"
   ]
  },
  {
   "cell_type": "code",
   "execution_count": 27,
   "id": "072155f8-c44a-4d37-a5f3-646194e1a650",
   "metadata": {},
   "outputs": [
    {
     "data": {
      "text/latex": [
       "$\\displaystyle \\left[\\begin{matrix}- 2 b & b & 0 & b\\\\b & - 2 b & b & 0\\\\0 & b & - 2 b & b\\\\b & 0 & b & - 2 b\\end{matrix}\\right]$"
      ],
      "text/plain": [
       "Matrix([\n",
       "[-2*b,    b,    0,    b],\n",
       "[   b, -2*b,    b,    0],\n",
       "[   0,    b, -2*b,    b],\n",
       "[   b,    0,    b, -2*b]])"
      ]
     },
     "metadata": {},
     "output_type": "display_data"
    }
   ],
   "source": [
    "m_1 = Matrix([\n",
    "[-2*b, b, 0, b],\n",
    "[b, -2*b, b, 0],\n",
    "[0, b, -2*b, b],\n",
    "[b, 0, b, -2*b]])\n",
    "display(m_1)"
   ]
  },
  {
   "cell_type": "code",
   "execution_count": 44,
   "id": "e182e741-d07d-45d5-8155-9ae3bdc812a5",
   "metadata": {},
   "outputs": [
    {
     "data": {
      "text/latex": [
       "$\\displaystyle \\left[\\begin{matrix}0.5 & 0.5 & 0.5 & 0.5\\end{matrix}\\right]$"
      ],
      "text/plain": [
       "Matrix([[0.5, 0.5, 0.5, 0.5]])"
      ]
     },
     "metadata": {},
     "output_type": "display_data"
    },
    {
     "data": {
      "text/latex": [
       "$\\displaystyle \\left[\\begin{matrix}-0.707106781186547 & 0 & 0.707106781186547 & 0\\end{matrix}\\right]$"
      ],
      "text/plain": [
       "Matrix([[-0.707106781186547, 0, 0.707106781186547, 0]])"
      ]
     },
     "metadata": {},
     "output_type": "display_data"
    },
    {
     "data": {
      "text/latex": [
       "$\\displaystyle \\left[\\begin{matrix}0 & -0.707106781186547 & 0 & 0.707106781186547\\end{matrix}\\right]$"
      ],
      "text/plain": [
       "Matrix([[0, -0.707106781186547, 0, 0.707106781186547]])"
      ]
     },
     "metadata": {},
     "output_type": "display_data"
    },
    {
     "data": {
      "text/latex": [
       "$\\displaystyle \\left[\\begin{matrix}-0.5 & 0.5 & -0.5 & 0.5\\end{matrix}\\right]$"
      ],
      "text/plain": [
       "Matrix([[-0.5, 0.5, -0.5, 0.5]])"
      ]
     },
     "metadata": {},
     "output_type": "display_data"
    }
   ],
   "source": [
    "o1 = Matrix([\n",
    "[1/2, 1/2, 1/2, 1/2],\n",
    "])\n",
    "display(o1)\n",
    "o2 = Matrix([\n",
    "[-1/np.sqrt(2), 0, 1/np.sqrt(2), 0],\n",
    "])\n",
    "display(o2)\n",
    "o3 = Matrix([\n",
    "[0, -1/np.sqrt(2), 0, 1/np.sqrt(2)],\n",
    "])\n",
    "display(o3)\n",
    "o4 = Matrix([\n",
    "[-1/2, 1/2, -1/2, 1/2],\n",
    "])\n",
    "display(o4)"
   ]
  },
  {
   "cell_type": "code",
   "execution_count": 45,
   "id": "d208077f-5feb-4986-9502-95f71c559411",
   "metadata": {},
   "outputs": [],
   "source": [
    "def ordem_de_ligacao(n1, n2, n3, n4, i, j):\n",
    "    a = i-1\n",
    "    b = j-1\n",
    "    return n1*o1[a]*o1[b] + n2*o2[a]*o2[b] + n3*o3[a]*o3[b] + n4*o4[a]*o4[b]"
   ]
  },
  {
   "cell_type": "code",
   "execution_count": 57,
   "id": "49883a3a-17c8-4696-9b57-1414b4178f2e",
   "metadata": {},
   "outputs": [],
   "source": [
    "def ordem_de_ligacao_molecula(n1, n2, n3, n4):\n",
    "    P12 = ordem_de_ligacao(n1, n2, n3, n4, 1, 2)\n",
    "    P13 = ordem_de_ligacao(n1, n2, n3, n4, 1, 3)\n",
    "    P14 = ordem_de_ligacao(n1, n2, n3, n4, 1, 4)\n",
    "    P23 = ordem_de_ligacao(n1, n2, n3, n4, 2, 3)\n",
    "    P24 = ordem_de_ligacao(n1, n2, n3, n4, 2, 4)\n",
    "    P34 = ordem_de_ligacao(n1, n2, n3, n4, 3, 4)\n",
    "    return (P12, P34, P14, P23, P24, P13)"
   ]
  },
  {
   "cell_type": "code",
   "execution_count": 70,
   "id": "e4ba9fa3-c0f5-47c6-90e4-abe5a0ca1981",
   "metadata": {},
   "outputs": [
    {
     "data": {
      "text/plain": [
       "(0.250000000000000,\n",
       " 0.250000000000000,\n",
       " 0.250000000000000,\n",
       " 0.250000000000000,\n",
       " 0.750000000000000,\n",
       " 0.250000000000000)"
      ]
     },
     "execution_count": 70,
     "metadata": {},
     "output_type": "execute_result"
    }
   ],
   "source": [
    "ordem_de_ligacao_molecula(2, 1, 0, 1)"
   ]
  },
  {
   "cell_type": "code",
   "execution_count": null,
   "id": "d7eb9729-3524-44df-93ee-4878b62167ad",
   "metadata": {},
   "outputs": [],
   "source": []
  }
 ],
 "metadata": {
  "kernelspec": {
   "display_name": "ilumpy",
   "language": "python",
   "name": "ilumpy"
  },
  "language_info": {
   "codemirror_mode": {
    "name": "ipython",
    "version": 3
   },
   "file_extension": ".py",
   "mimetype": "text/x-python",
   "name": "python",
   "nbconvert_exporter": "python",
   "pygments_lexer": "ipython3",
   "version": "3.9.7"
  }
 },
 "nbformat": 4,
 "nbformat_minor": 5
}
